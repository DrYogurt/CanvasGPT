{
 "cells": [
  {
   "cell_type": "code",
   "execution_count": 10,
   "metadata": {},
   "outputs": [],
   "source": [
    "import os, json\n",
    "import requests\n",
    "from bs4 import BeautifulSoup\n",
    "import re\n",
    "from datetime import datetime"
   ]
  },
  {
   "cell_type": "code",
   "execution_count": 2,
   "metadata": {},
   "outputs": [],
   "source": [
    "# Read API Key\n",
    "config_file = {}\n",
    "with open('config.txt', 'r') as f:\n",
    "    lines = f.readlines()\n",
    "    for line in lines:\n",
    "        key, value = line.strip().split('=')\n",
    "        config_file[key] = value\n",
    "\n",
    "API_KEY = config_file.get('API_KEY')\n",
    "\n",
    "if API_KEY is None:\n",
    "    raise ValueError('API_KEY not found')"
   ]
  },
  {
   "cell_type": "code",
   "execution_count": 3,
   "metadata": {},
   "outputs": [],
   "source": [
    "def get_courses(key):\n",
    "    request = \"https://canvas.case.edu/api/v1/courses\"\n",
    "    headers = {\"Authorization\": f\"Bearer {API_KEY}\"}\n",
    "    data = {\n",
    "        \"enrollment_type\":\"student\",\n",
    "        \"enrollment_state\":\"active\",\n",
    "    }\n",
    "    response = requests.get(request, params=data, headers=headers)\n",
    "    json_object = response.json()\n",
    "    return json.dumps(json_object)\n",
    "\n",
    "def get_assignments(course_id, key):\n",
    "    request = f\"https://canvas.case.edu/api/v1/courses/{course_id}/assignments\"\n",
    "    headers = {\"Authorization\": f\"Bearer {API_KEY}\"}\n",
    "    response = requests.get(request, headers=headers)\n",
    "    json_object = response.json()\n",
    "    return json.dumps(json_object)\n",
    "\n",
    "def get_file(request,key):\n",
    "    headers = {\"Authorization\": f\"Bearer {API_KEY}\"}\n",
    "    response = requests.get(request, headers=headers)\n",
    "    json_object = response.json()\n",
    "    \n",
    "    # Ensure the 'pdfs' folder exists\n",
    "    if not os.path.exists('files'):\n",
    "        os.makedirs('files')\n",
    "\n",
    "    # Download PDF\n",
    "    url = json_object.get('url')\n",
    "    response = requests.get(url)\n",
    "    file_path = os.path.join('files', json_object.get('filename'))\n",
    "\n",
    "    # Save to 'pdfs' folder\n",
    "    with open(file_path, 'wb') as f:\n",
    "        f.write(response.content)\n",
    "\n",
    "    # Return dictionary entry\n",
    "    result = {\n",
    "        'displayname': json_object.get('display_name'),\n",
    "        'filename': file_path\n",
    "    }\n",
    "    \n",
    "    return result\n",
    "\n",
    "\n"
   ]
  },
  {
   "cell_type": "code",
   "execution_count": 4,
   "metadata": {},
   "outputs": [],
   "source": [
    "def parse_assignment_text(assignment_description):\n",
    "    soup = BeautifulSoup(assignment_description, 'html.parser')\n",
    "\n",
    "    # Extracting all text\n",
    "    text = soup.stripped_strings\n",
    "    plaintext = \" \".join(text)\n",
    "\n",
    "    # Extracting API endpoints\n",
    "    api_endpoints = [tag['data-api-endpoint'] for tag in soup.find_all('a') if tag.has_attr('data-api-endpoint')]\n",
    "\n",
    "    return plaintext, api_endpoints\n",
    "\n"
   ]
  },
  {
   "cell_type": "code",
   "execution_count": 20,
   "metadata": {},
   "outputs": [
    {
     "name": "stdout",
     "output_type": "stream",
     "text": [
      "[{'course': 'Bayesian Scientific Computing (100/10794)', 'assignment_name': 'Homework 1', 'due_date': datetime.datetime(2023, 10, 3, 3, 59, 59), 'content': 'HW1.pdf', 'files': [{'displayname': 'HW1.pdf', 'filename': 'files/HW1.pdf'}]}, {'course': 'Bayesian Scientific Computing (100/10794)', 'assignment_name': 'Homework 2', 'due_date': datetime.datetime(2023, 10, 18, 3, 59, 59), 'content': 'HW2.pdf HW2.tex', 'files': [{'displayname': 'HW2.pdf', 'filename': 'files/HW2.pdf'}, {'displayname': 'HW2.tex', 'filename': 'files/HW2.tex'}]}, {'course': 'Fundamentals of Analysis I (100/1187)', 'assignment_name': 'Homework 1', 'due_date': datetime.datetime(2023, 9, 14, 3, 59, 59), 'content': 'Hello Everyone, HW 1 has been uploaded and will be due on Sep 13, 2023 by 11:59 p.m. No late assignments will be accepted. HW 1 Math 321.pdf', 'files': [{'displayname': 'HW 1 Math 321.pdf', 'filename': 'files/HW+1+Math+321.pdf'}]}, {'course': 'Fundamentals of Analysis I (100/1187)', 'assignment_name': 'Homework 2', 'due_date': datetime.datetime(2023, 9, 21, 3, 59, 59), 'content': 'Overleaf_M_321_Homeworks.pdf', 'files': [{'displayname': 'Overleaf_M_321_Homeworks.pdf', 'filename': 'files/Overleaf_M_321_Homeworks.pdf'}]}, {'course': 'Fundamentals of Analysis I (100/1187)', 'assignment_name': 'Homework 3', 'due_date': datetime.datetime(2023, 9, 27, 3, 59, 59), 'content': 'Overleaf_M_321_Homework 3.pdf', 'files': [{'displayname': 'Overleaf_M_321_Homework 3.pdf', 'filename': 'files/Overleaf_M_321_Homework+3.pdf'}]}, {'course': 'Fundamentals of Analysis I (100/1187)', 'assignment_name': 'Midterm 1', 'due_date': None, 'content': '', 'files': []}, {'course': 'Fundamentals of Analysis I (100/1187)', 'assignment_name': 'Homework 4', 'due_date': datetime.datetime(2023, 10, 17, 3, 59, 59), 'content': 'Overleaf_M_321_Homeworks (1).pdf', 'files': [{'displayname': 'Overleaf_M_321_Homeworks (1).pdf', 'filename': 'files/Overleaf_M_321_Homeworks+%281%29.pdf'}]}, {'course': 'Heat Transfer (100/4773)', 'assignment_name': 'Assignment 1', 'due_date': datetime.datetime(2023, 9, 7, 3, 59, 59), 'content': 'HW1.pdf', 'files': [{'displayname': 'HW1.pdf', 'filename': 'files/HW1.pdf'}]}, {'course': 'Heat Transfer (100/4773)', 'assignment_name': 'Assignment 2', 'due_date': datetime.datetime(2023, 9, 14, 3, 59, 59), 'content': 'HW2.pdf', 'files': [{'displayname': 'HW2.pdf', 'filename': 'files/HW2.pdf'}]}, {'course': 'Heat Transfer (100/4773)', 'assignment_name': 'Assignment 3', 'due_date': datetime.datetime(2023, 9, 21, 3, 59, 59), 'content': 'HW3.pdf', 'files': [{'displayname': 'HW3.pdf', 'filename': 'files/HW3.pdf'}]}, {'course': 'Heat Transfer (100/4773)', 'assignment_name': 'Assignment 4', 'due_date': datetime.datetime(2023, 10, 5, 3, 59, 59), 'content': 'HW4.pdf', 'files': [{'displayname': 'HW4.pdf', 'filename': 'files/HW4.pdf'}]}, {'course': 'Heat Transfer (100/4773)', 'assignment_name': 'Assignment 5', 'due_date': datetime.datetime(2023, 10, 12, 3, 59, 59), 'content': 'HW5.pdf', 'files': [{'displayname': 'HW5.pdf', 'filename': 'files/HW5.pdf'}]}, {'course': 'Heat Transfer (100/4773)', 'assignment_name': 'Assignment 6', 'due_date': datetime.datetime(2023, 10, 21, 3, 59, 59), 'content': 'HW6.pdf', 'files': [{'displayname': 'HW6.pdf', 'filename': 'files/HW6.pdf'}]}, {'course': 'Mechanical Engineering Analysis (100/3926)', 'assignment_name': 'Homework # 1', 'due_date': datetime.datetime(2023, 9, 12, 14, 0), 'content': 'HW_1.pdf', 'files': [{'displayname': 'HW_1.pdf', 'filename': 'files/HW_1.pdf'}]}, {'course': 'Mechanical Engineering Analysis (100/3926)', 'assignment_name': 'HW # 2', 'due_date': datetime.datetime(2023, 9, 26, 14, 0), 'content': 'HW_2.pdf', 'files': [{'displayname': 'HW_2.pdf', 'filename': 'files/HW_2.pdf'}]}, {'course': 'Mechanical Engineering Analysis (100/3926)', 'assignment_name': 'HW # 3', 'due_date': datetime.datetime(2023, 10, 5, 14, 0), 'content': 'HW 3.pdf', 'files': [{'displayname': 'HW 3.pdf', 'filename': 'files/HW+3.pdf'}]}, {'course': 'Mechanical Engineering Measurements Laboratory (100/4137)', 'assignment_name': 'Lab 1 Data Submission', 'due_date': None, 'content': 'Please submit your measurement data from lab 1 via a file (such as an excel spreadsheet) or text upload. All lab partners are expected to upload the same dataset.', 'files': []}, {'course': 'Mechanical Engineering Measurements Laboratory (100/4137)', 'assignment_name': 'Lab 1 Report', 'due_date': None, 'content': '', 'files': []}, {'course': 'Mechanical Engineering Measurements Laboratory (100/4137)', 'assignment_name': 'Lab 1 Pre-lab', 'due_date': None, 'content': '', 'files': []}, {'course': 'Mechanical Engineering Measurements Laboratory (100/4137)', 'assignment_name': 'Lab 2 Pre-lab', 'due_date': None, 'content': '', 'files': []}]\n"
     ]
    }
   ],
   "source": [
    "courses = get_courses(API_KEY)\n",
    "courses = json.loads(courses)\n",
    "processed_assignments = []\n",
    "for course in courses:\n",
    "    course_id = course.get('id', 'N/A')\n",
    "    course_name = course.get('name', 'N/A')\n",
    "    #print(f\"Course ID: {course_id}, Course Name: {course_name}\")\n",
    "    assignments = get_assignments(course.get('id', 'N/A'),API_KEY)\n",
    "    assignments = json.loads(assignments)\n",
    "    for assignment in assignments:\n",
    "        assignment_name = assignment.get('name','N/A')\n",
    "        assignment_description = assignment.get('description',None)\n",
    "        if assignment.get('is_quiz_assignment'):\n",
    "            continue\n",
    "        assignment_description, endpoints = parse_assignment_text(assignment_description)\n",
    "        endpoints = [] if endpoints is None else endpoints\n",
    "        \n",
    "        due_date = assignment.get('due_at', None)\n",
    "        if due_date is not None:\n",
    "            due_date = datetime.strptime(due_date, '%Y-%m-%dT%H:%M:%SZ')\n",
    "        #print(f\"{assignment_name}\\n{assignment_description} (num API endpoints: {endpoints})\")\n",
    "        #all_endpoints.extend(endpoints)\n",
    "        processed_assignments.append({\n",
    "            'course': course_name,\n",
    "            'assignment_name' : assignment_name,\n",
    "            'due_date' : due_date,\n",
    "            'content' : assignment_description,\n",
    "            'files' : [get_file(endpoint,API_KEY) for endpoint in endpoints]\n",
    "        })\n",
    "print(processed_assignments)"
   ]
  },
  {
   "cell_type": "code",
   "execution_count": 22,
   "metadata": {},
   "outputs": [],
   "source": [
    "current_assignments = [assignment for assignment in processed_assignments if assignment['due_date'] is not None and assignment['due_date'] > datetime.now()]\n"
   ]
  },
  {
   "cell_type": "code",
   "execution_count": 24,
   "metadata": {},
   "outputs": [
    {
     "name": "stdout",
     "output_type": "stream",
     "text": [
      "Bayesian Scientific Computing (100/10794), Homework 2\n",
      "2023-10-18 03:59:59\n",
      "Fundamentals of Analysis I (100/1187), Homework 4\n",
      "2023-10-17 03:59:59\n",
      "Heat Transfer (100/4773), Assignment 5\n",
      "2023-10-12 03:59:59\n",
      "Heat Transfer (100/4773), Assignment 6\n",
      "2023-10-21 03:59:59\n"
     ]
    }
   ],
   "source": [
    "assgns = [f\"{assignment['course']}, {assignment['assignment_name']}\\n{assignment['due_date']}\" for assignment in current_assignments]\n",
    "for a in assgns:\n",
    "    print(a)"
   ]
  },
  {
   "cell_type": "code",
   "execution_count": null,
   "metadata": {},
   "outputs": [],
   "source": []
  }
 ],
 "metadata": {
  "kernelspec": {
   "display_name": ".canvasgpt",
   "language": "python",
   "name": "python3"
  },
  "language_info": {
   "codemirror_mode": {
    "name": "ipython",
    "version": 3
   },
   "file_extension": ".py",
   "mimetype": "text/x-python",
   "name": "python",
   "nbconvert_exporter": "python",
   "pygments_lexer": "ipython3",
   "version": "3.11.5"
  },
  "orig_nbformat": 4
 },
 "nbformat": 4,
 "nbformat_minor": 2
}
